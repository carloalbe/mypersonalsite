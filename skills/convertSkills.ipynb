{
 "cells": [
  {
   "cell_type": "code",
   "execution_count": 1,
   "metadata": {},
   "outputs": [],
   "source": [
    "import json "
   ]
  },
  {
   "cell_type": "code",
   "execution_count": 24,
   "metadata": {},
   "outputs": [
    {
     "data": {
      "text/plain": [
       "11"
      ]
     },
     "execution_count": 24,
     "metadata": {},
     "output_type": "execute_result"
    }
   ],
   "source": [
    "with open(\"skills.txt\", 'r') as f:\n",
    "    x =f.readlines()\n",
    "\n",
    "len(x)"
   ]
  },
  {
   "cell_type": "code",
   "execution_count": 25,
   "metadata": {},
   "outputs": [
    {
     "data": {
      "text/plain": [
       "['2021}{Web Scraping}{Python, Urllib, Selenium }{My first Python library available on pipy is a  href{httpspypi.orgprojectpytipeee}{tipeee scraper}. On my github some codes to href{httpsgithub.comcarloalbeSCI-projecttreemastercodescraping}{scrape google patents}. See href{httpsgithub.comcarloalbeTripAdvisor-Tuscany-Restaurant-Social-Network-Analysistreemasterdata_collection}{here} my crawler for Trip Advisor with scrapy.',\n",
       " '2021}{Text Analytics}{Python, gensim, spacy, nltk }{Basic knowledge of the main Python libraries for text mining, and application of some data analysis technique such as href{httpstopicmodeling.000webhostapp.comtopics.html}{ topic modelling in this report}.',\n",
       " '2021}{Network Analysis}{networks, Gephi, Cytoscope}{Usage of libraries and tools for building and analysing complex network, knowledge on the main algorithms of the graph theory. ',\n",
       " '2020}{Data Visualization}{Plotly, Microstrategy, Tableau, Power BI}{Charts, plots, colors, user interactions in my href{httpssthimarkearthquakemap.000webhostapp.com}{interactive dashboard}. href{httpscommunity.microstrategy.comsfcservlet.shepherddocumentdownload0694W00000AMhA8QALoperationContext=S1}{Download} my Microstrategy dossier or see  href{httpspublic.tableau.comprofilecarlo.alberto.carrucciu#!vizhomeMC1_16027903908960Foglio1}{here} my Tableau. Experience with Python and R graphic libraries.',\n",
       " '2020}{Extract, Transform & Load}{SQL-Server and related tools}{Extration of data from files (CSV, JSON). Design of datamarts with sql-server Management studio or Azure; usage of SSIS package for Visual Studio, and SSAS package for OLAP cubes building.  href{httpsgithub.comcarloalbeLaboratory-of-Data-Science} {Repository here}. Ability with MDX query language, DAX and with Excel power pivot. Experience with href{httpsgithub.comcarloalbePyspark-Spotify-Analysis}{pyspark} for distributed computing and href{httpsgithub.comcarloalbestatistical-Methods-for-Data-Science}{R for statistical models}.',\n",
       " '2019-}{Machine Learning}{Python, pandas, scikitLearn, Keras, etc..}{href{httpsgithub.comcarloalbeData-Mining}{Here my notebooks} including neural networks and advanced classification techniques, clustering, regressors and forecasting methods. Experience (href{httpsgithub.comcarloalbePyspark-Spotify-Analysis}{see here}).',\n",
       " '2018}{2D3D CAD}{Autodesk Inventor}{Design a href{httpsgithub.comcarloalbeCAD-taper-lock-bushing}{manufacturing cycle}  for a mechanical component and representation using manual design and CAD programs.',\n",
       " '2017-}{Web Programming}{HTML, CSS, Javascript, Vue, PHP, D3, Bootstrap}{Front-end user friendly development. My href{httpstrumpvskim.000webhostapp.com}{game} in HTML5,  available also at href{httpstrumpvskimjongun.000webhostapp.com}{in a version with PHP login and database mysql}.. Realization of a professional href{httpssthimarkearthquakemap.000webhostapp.com}{interactive dashboard} for data visualization. Knowledge of web marketing, cookies setting and Google Analytic. ',\n",
       " '2017-2021}{Linear Programming}{AMPL, Python, Gurobi, Excel Solver}{ Ability in modeling real problems into mathematical models. Knowledge of the main solvers (Gurobi, Cplex). See my href{httpsgithub.comcarloalbeWIA-logistics-AMPL}{AMPL project work} and my  href{httpsgithub.comcarloalbeA-nurse-scheduling-problem-solved-with-Gurobi}{ resolution of a hierarchical problem using gurobipy API }. ',\n",
       " '2015-2020}{Business Process Management}{BPMN, Signavio, accounting}{Financial Accounting, balance sheet; KPI and leverages; PERT  & CPT for Project management; depth knowledge of BPMN and Petri theory. Interest in process mining.',\n",
       " '---------}{Reportage}{Excel, Word, Power point, LaTex. Gimp}{Textual and visual arrangement of various arguments. Great knowledge of the Office package. Find href{httpsdrive.google.comdrivefolders1U84DXiP1YGyvpIaifE-XJsutWStBYgOe}{here} some works.']"
      ]
     },
     "execution_count": 25,
     "metadata": {},
     "output_type": "execute_result"
    }
   ],
   "source": [
    "x =[e.replace('\\n','')[11:-1] for e in x if e!='\\n']\n",
    "\n",
    "x"
   ]
  },
  {
   "cell_type": "code",
   "execution_count": 26,
   "metadata": {},
   "outputs": [
    {
     "data": {
      "text/plain": [
       "[['2021',\n",
       "  'Web Scraping',\n",
       "  'Python, Urllib, Selenium ',\n",
       "  'My first Python library available on pipy is a  href{httpspypi.orgprojectpytipeee',\n",
       "  'tipeee scraper}. On my github some codes to href{httpsgithub.comcarloalbeSCI-projecttreemastercodescraping',\n",
       "  'scrape google patents}. See href{httpsgithub.comcarloalbeTripAdvisor-Tuscany-Restaurant-Social-Network-Analysistreemasterdata_collection',\n",
       "  'here} my crawler for Trip Advisor with scrapy.'],\n",
       " ['2021',\n",
       "  'Text Analytics',\n",
       "  'Python, gensim, spacy, nltk ',\n",
       "  'Basic knowledge of the main Python libraries for text mining, and application of some data analysis technique such as href{httpstopicmodeling.000webhostapp.comtopics.html',\n",
       "  ' topic modelling in this report}.'],\n",
       " ['2021',\n",
       "  'Network Analysis',\n",
       "  'networks, Gephi, Cytoscope',\n",
       "  'Usage of libraries and tools for building and analysing complex network, knowledge on the main algorithms of the graph theory. '],\n",
       " ['2020',\n",
       "  'Data Visualization',\n",
       "  'Plotly, Microstrategy, Tableau, Power BI',\n",
       "  'Charts, plots, colors, user interactions in my href{httpssthimarkearthquakemap.000webhostapp.com',\n",
       "  'interactive dashboard}. href{httpscommunity.microstrategy.comsfcservlet.shepherddocumentdownload0694W00000AMhA8QALoperationContext=S1',\n",
       "  'Download} my Microstrategy dossier or see  href{httpspublic.tableau.comprofilecarlo.alberto.carrucciu#!vizhomeMC1_16027903908960Foglio1',\n",
       "  'here} my Tableau. Experience with Python and R graphic libraries.'],\n",
       " ['2020',\n",
       "  'Extract, Transform & Load',\n",
       "  'SQL-Server and related tools',\n",
       "  'Extration of data from files (CSV, JSON). Design of datamarts with sql-server Management studio or Azure; usage of SSIS package for Visual Studio, and SSAS package for OLAP cubes building.  href{httpsgithub.comcarloalbeLaboratory-of-Data-Science} {Repository here}. Ability with MDX query language, DAX and with Excel power pivot. Experience with href{httpsgithub.comcarloalbePyspark-Spotify-Analysis',\n",
       "  'pyspark} for distributed computing and href{httpsgithub.comcarloalbestatistical-Methods-for-Data-Science',\n",
       "  'R for statistical models}.'],\n",
       " ['2019-',\n",
       "  'Machine Learning',\n",
       "  'Python, pandas, scikitLearn, Keras, etc..',\n",
       "  'href{httpsgithub.comcarloalbeData-Mining',\n",
       "  'Here my notebooks} including neural networks and advanced classification techniques, clustering, regressors and forecasting methods. Experience (href{httpsgithub.comcarloalbePyspark-Spotify-Analysis',\n",
       "  'see here}).'],\n",
       " ['2018',\n",
       "  '2D3D CAD',\n",
       "  'Autodesk Inventor',\n",
       "  'Design a href{httpsgithub.comcarloalbeCAD-taper-lock-bushing',\n",
       "  'manufacturing cycle}  for a mechanical component and representation using manual design and CAD programs.'],\n",
       " ['2017-',\n",
       "  'Web Programming',\n",
       "  'HTML, CSS, Javascript, Vue, PHP, D3, Bootstrap',\n",
       "  'Front-end user friendly development. My href{httpstrumpvskim.000webhostapp.com',\n",
       "  'game} in HTML5,  available also at href{httpstrumpvskimjongun.000webhostapp.com',\n",
       "  'in a version with PHP login and database mysql}.. Realization of a professional href{httpssthimarkearthquakemap.000webhostapp.com',\n",
       "  'interactive dashboard} for data visualization. Knowledge of web marketing, cookies setting and Google Analytic. '],\n",
       " ['2017-2021',\n",
       "  'Linear Programming',\n",
       "  'AMPL, Python, Gurobi, Excel Solver',\n",
       "  ' Ability in modeling real problems into mathematical models. Knowledge of the main solvers (Gurobi, Cplex). See my href{httpsgithub.comcarloalbeWIA-logistics-AMPL',\n",
       "  'AMPL project work} and my  href{httpsgithub.comcarloalbeA-nurse-scheduling-problem-solved-with-Gurobi',\n",
       "  ' resolution of a hierarchical problem using gurobipy API }. '],\n",
       " ['2015-2020',\n",
       "  'Business Process Management',\n",
       "  'BPMN, Signavio, accounting',\n",
       "  'Financial Accounting, balance sheet; KPI and leverages; PERT  & CPT for Project management; depth knowledge of BPMN and Petri theory. Interest in process mining.'],\n",
       " ['---------',\n",
       "  'Reportage',\n",
       "  'Excel, Word, Power point, LaTex. Gimp',\n",
       "  'Textual and visual arrangement of various arguments. Great knowledge of the Office package. Find href{httpsdrive.google.comdrivefolders1U84DXiP1YGyvpIaifE-XJsutWStBYgOe',\n",
       "  'here} some works.']]"
      ]
     },
     "execution_count": 26,
     "metadata": {},
     "output_type": "execute_result"
    }
   ],
   "source": [
    "x = [e.split('}{') for e in x]\n",
    "x"
   ]
  },
  {
   "cell_type": "code",
   "execution_count": 32,
   "metadata": {},
   "outputs": [
    {
     "data": {
      "text/plain": [
       "['My first Python library available on pipy is a  href{httpspypi.orgprojectpytipeee}{tipeee scraper}. On my github some codes to href{httpsgithub.comcarloalbeSCI-projecttreemastercodescraping}{scrape google patents}. See href{httpsgithub.comcarloalbeTripAdvisor-Tuscany-Restaurant-Social-Network-Analysistreemasterdata_collection}{here} my crawler for Trip Advisor with scrapy.',\n",
       " 'Basic knowledge of the main Python libraries for text mining, and application of some data analysis technique such as href{httpstopicmodeling.000webhostapp.comtopics.html}{ topic modelling in this report}.',\n",
       " 'Usage of libraries and tools for building and analysing complex network, knowledge on the main algorithms of the graph theory. ',\n",
       " 'Charts, plots, colors, user interactions in my href{httpssthimarkearthquakemap.000webhostapp.com}{interactive dashboard}. href{httpscommunity.microstrategy.comsfcservlet.shepherddocumentdownload0694W00000AMhA8QALoperationContext=S1}{Download} my Microstrategy dossier or see  href{httpspublic.tableau.comprofilecarlo.alberto.carrucciu#!vizhomeMC1_16027903908960Foglio1}{here} my Tableau. Experience with Python and R graphic libraries.',\n",
       " 'Extration of data from files (CSV, JSON). Design of datamarts with sql-server Management studio or Azure; usage of SSIS package for Visual Studio, and SSAS package for OLAP cubes building.  href{httpsgithub.comcarloalbeLaboratory-of-Data-Science} {Repository here}. Ability with MDX query language, DAX and with Excel power pivot. Experience with href{httpsgithub.comcarloalbePyspark-Spotify-Analysis}{pyspark} for distributed computing and href{httpsgithub.comcarloalbestatistical-Methods-for-Data-Science}{R for statistical models}.',\n",
       " 'href{httpsgithub.comcarloalbeData-Mining}{Here my notebooks} including neural networks and advanced classification techniques, clustering, regressors and forecasting methods. Experience (href{httpsgithub.comcarloalbePyspark-Spotify-Analysis}{see here}).',\n",
       " 'Design a href{httpsgithub.comcarloalbeCAD-taper-lock-bushing}{manufacturing cycle}  for a mechanical component and representation using manual design and CAD programs.',\n",
       " 'Front-end user friendly development. My href{httpstrumpvskim.000webhostapp.com}{game} in HTML5,  available also at href{httpstrumpvskimjongun.000webhostapp.com}{in a version with PHP login and database mysql}.. Realization of a professional href{httpssthimarkearthquakemap.000webhostapp.com}{interactive dashboard} for data visualization. Knowledge of web marketing, cookies setting and Google Analytic. ',\n",
       " ' Ability in modeling real problems into mathematical models. Knowledge of the main solvers (Gurobi, Cplex). See my href{httpsgithub.comcarloalbeWIA-logistics-AMPL}{AMPL project work} and my  href{httpsgithub.comcarloalbeA-nurse-scheduling-problem-solved-with-Gurobi}{ resolution of a hierarchical problem using gurobipy API }. ',\n",
       " 'Financial Accounting, balance sheet; KPI and leverages; PERT  & CPT for Project management; depth knowledge of BPMN and Petri theory. Interest in process mining.',\n",
       " 'Textual and visual arrangement of various arguments. Great knowledge of the Office package. Find href{httpsdrive.google.comdrivefolders1U84DXiP1YGyvpIaifE-XJsutWStBYgOe}{here} some works.']"
      ]
     },
     "execution_count": 32,
     "metadata": {},
     "output_type": "execute_result"
    }
   ],
   "source": [
    "texts = ['}{'.join([i for i in e[3:]]) for e in x]\n",
    "texts\n"
   ]
  },
  {
   "cell_type": "code",
   "execution_count": 33,
   "metadata": {},
   "outputs": [
    {
     "data": {
      "text/plain": [
       "['My first Python library available on pipy is a  <a href=\"httpspypi.orgprojectpytipeee\">tipeee scraper</a>. On my github some codes to <a href=\"httpsgithub.comcarloalbeSCI-projecttreemastercodescraping\">scrape google patents</a>. See <a href=\"httpsgithub.comcarloalbeTripAdvisor-Tuscany-Restaurant-Social-Network-Analysistreemasterdata_collection\">here</a> my crawler for Trip Advisor with scrapy.',\n",
       " 'Basic knowledge of the main Python libraries for text mining, and application of some data analysis technique such as <a href=\"httpstopicmodeling.000webhostapp.comtopics.html\"> topic modelling in this report</a>.',\n",
       " 'Usage of libraries and tools for building and analysing complex network, knowledge on the main algorithms of the graph theory. ',\n",
       " 'Charts, plots, colors, user interactions in my <a href=\"httpssthimarkearthquakemap.000webhostapp.com\">interactive dashboard</a>. <a href=\"httpscommunity.microstrategy.comsfcservlet.shepherddocumentdownload0694W00000AMhA8QALoperationContext=S1\">Download</a> my Microstrategy dossier or see  <a href=\"httpspublic.tableau.comprofilecarlo.alberto.carrucciu#!vizhomeMC1_16027903908960Foglio1\">here</a> my Tableau. Experience with Python and R graphic libraries.',\n",
       " 'Extration of data from files (CSV, JSON). Design of datamarts with sql-server Management studio or Azure; usage of SSIS package for Visual Studio, and SSAS package for OLAP cubes building.  <a href=\"httpsgithub.comcarloalbeLaboratory-of-Data-Science</a> {Repository here</a>. Ability with MDX query language, DAX and with Excel power pivot. Experience with <a href=\"httpsgithub.comcarloalbePyspark-Spotify-Analysis\">pyspark</a> for distributed computing and <a href=\"httpsgithub.comcarloalbestatistical-Methods-for-Data-Science\">R for statistical models</a>.',\n",
       " '<a href=\"httpsgithub.comcarloalbeData-Mining\">Here my notebooks</a> including neural networks and advanced classification techniques, clustering, regressors and forecasting methods. Experience (<a href=\"httpsgithub.comcarloalbePyspark-Spotify-Analysis\">see here</a>).',\n",
       " 'Design a <a href=\"httpsgithub.comcarloalbeCAD-taper-lock-bushing\">manufacturing cycle</a>  for a mechanical component and representation using manual design and CAD programs.',\n",
       " 'Front-end user friendly development. My <a href=\"httpstrumpvskim.000webhostapp.com\">game</a> in HTML5,  available also at <a href=\"httpstrumpvskimjongun.000webhostapp.com\">in a version with PHP login and database mysql</a>.. Realization of a professional <a href=\"httpssthimarkearthquakemap.000webhostapp.com\">interactive dashboard</a> for data visualization. Knowledge of web marketing, cookies setting and Google Analytic. ',\n",
       " ' Ability in modeling real problems into mathematical models. Knowledge of the main solvers (Gurobi, Cplex). See my <a href=\"httpsgithub.comcarloalbeWIA-logistics-AMPL\">AMPL project work</a> and my  <a href=\"httpsgithub.comcarloalbeA-nurse-scheduling-problem-solved-with-Gurobi\"> resolution of a hierarchical problem using gurobipy API </a>. ',\n",
       " 'Financial Accounting, balance sheet; KPI and leverages; PERT  & CPT for Project management; depth knowledge of BPMN and Petri theory. Interest in process mining.',\n",
       " 'Textual and visual arrangement of various arguments. Great knowledge of the Office package. Find <a href=\"httpsdrive.google.comdrivefolders1U84DXiP1YGyvpIaifE-XJsutWStBYgOe\">here</a> some works.']"
      ]
     },
     "execution_count": 33,
     "metadata": {},
     "output_type": "execute_result"
    }
   ],
   "source": [
    "htmls = [e.replace('href{','<a href=\"').replace('}{','\">').replace('}','</a>') for e in texts]\n",
    "htmls"
   ]
  },
  {
   "cell_type": "code",
   "execution_count": 30,
   "metadata": {},
   "outputs": [
    {
     "data": {
      "text/plain": [
       "[{'period': '2021',\n",
       "  'title': 'Web Scraping',\n",
       "  'tools': 'Python, Urllib, Selenium '},\n",
       " {'period': '2021',\n",
       "  'title': 'Text Analytics',\n",
       "  'tools': 'Python, gensim, spacy, nltk '},\n",
       " {'period': '2021',\n",
       "  'title': 'Network Analysis',\n",
       "  'tools': 'networks, Gephi, Cytoscope'},\n",
       " {'period': '2020',\n",
       "  'title': 'Data Visualization',\n",
       "  'tools': 'Plotly, Microstrategy, Tableau, Power BI'},\n",
       " {'period': '2020',\n",
       "  'title': 'Extract, Transform & Load',\n",
       "  'tools': 'SQL-Server and related tools'},\n",
       " {'period': '2019-',\n",
       "  'title': 'Machine Learning',\n",
       "  'tools': 'Python, pandas, scikitLearn, Keras, etc..'},\n",
       " {'period': '2018', 'title': '2D3D CAD', 'tools': 'Autodesk Inventor'},\n",
       " {'period': '2017-',\n",
       "  'title': 'Web Programming',\n",
       "  'tools': 'HTML, CSS, Javascript, Vue, PHP, D3, Bootstrap'},\n",
       " {'period': '2017-2021',\n",
       "  'title': 'Linear Programming',\n",
       "  'tools': 'AMPL, Python, Gurobi, Excel Solver'},\n",
       " {'period': '2015-2020',\n",
       "  'title': 'Business Process Management',\n",
       "  'tools': 'BPMN, Signavio, accounting'},\n",
       " {'period': '---------',\n",
       "  'title': 'Reportage',\n",
       "  'tools': 'Excel, Word, Power point, LaTex. Gimp'}]"
      ]
     },
     "execution_count": 30,
     "metadata": {},
     "output_type": "execute_result"
    }
   ],
   "source": [
    "skills = [{\n",
    "    'period' : e[0],\n",
    "    'title'  : e[1],\n",
    "    'tools'  : e[2]\n",
    "    \n",
    "} for e in x ]\n",
    "\n",
    "skills"
   ]
  },
  {
   "cell_type": "code",
   "execution_count": 34,
   "metadata": {},
   "outputs": [
    {
     "data": {
      "text/plain": [
       "[{'period': '2021',\n",
       "  'title': 'Web Scraping',\n",
       "  'tools': 'Python, Urllib, Selenium ',\n",
       "  'text': 'My first Python library available on pipy is a  <a href=\"httpspypi.orgprojectpytipeee\">tipeee scraper</a>. On my github some codes to <a href=\"httpsgithub.comcarloalbeSCI-projecttreemastercodescraping\">scrape google patents</a>. See <a href=\"httpsgithub.comcarloalbeTripAdvisor-Tuscany-Restaurant-Social-Network-Analysistreemasterdata_collection\">here</a> my crawler for Trip Advisor with scrapy.'},\n",
       " {'period': '2021',\n",
       "  'title': 'Text Analytics',\n",
       "  'tools': 'Python, gensim, spacy, nltk ',\n",
       "  'text': 'Basic knowledge of the main Python libraries for text mining, and application of some data analysis technique such as <a href=\"httpstopicmodeling.000webhostapp.comtopics.html\"> topic modelling in this report</a>.'},\n",
       " {'period': '2021',\n",
       "  'title': 'Network Analysis',\n",
       "  'tools': 'networks, Gephi, Cytoscope',\n",
       "  'text': 'Usage of libraries and tools for building and analysing complex network, knowledge on the main algorithms of the graph theory. '},\n",
       " {'period': '2020',\n",
       "  'title': 'Data Visualization',\n",
       "  'tools': 'Plotly, Microstrategy, Tableau, Power BI',\n",
       "  'text': 'Charts, plots, colors, user interactions in my <a href=\"httpssthimarkearthquakemap.000webhostapp.com\">interactive dashboard</a>. <a href=\"httpscommunity.microstrategy.comsfcservlet.shepherddocumentdownload0694W00000AMhA8QALoperationContext=S1\">Download</a> my Microstrategy dossier or see  <a href=\"httpspublic.tableau.comprofilecarlo.alberto.carrucciu#!vizhomeMC1_16027903908960Foglio1\">here</a> my Tableau. Experience with Python and R graphic libraries.'},\n",
       " {'period': '2020',\n",
       "  'title': 'Extract, Transform & Load',\n",
       "  'tools': 'SQL-Server and related tools',\n",
       "  'text': 'Extration of data from files (CSV, JSON). Design of datamarts with sql-server Management studio or Azure; usage of SSIS package for Visual Studio, and SSAS package for OLAP cubes building.  <a href=\"httpsgithub.comcarloalbeLaboratory-of-Data-Science</a> {Repository here</a>. Ability with MDX query language, DAX and with Excel power pivot. Experience with <a href=\"httpsgithub.comcarloalbePyspark-Spotify-Analysis\">pyspark</a> for distributed computing and <a href=\"httpsgithub.comcarloalbestatistical-Methods-for-Data-Science\">R for statistical models</a>.'},\n",
       " {'period': '2019-',\n",
       "  'title': 'Machine Learning',\n",
       "  'tools': 'Python, pandas, scikitLearn, Keras, etc..',\n",
       "  'text': '<a href=\"httpsgithub.comcarloalbeData-Mining\">Here my notebooks</a> including neural networks and advanced classification techniques, clustering, regressors and forecasting methods. Experience (<a href=\"httpsgithub.comcarloalbePyspark-Spotify-Analysis\">see here</a>).'},\n",
       " {'period': '2018',\n",
       "  'title': '2D3D CAD',\n",
       "  'tools': 'Autodesk Inventor',\n",
       "  'text': 'Design a <a href=\"httpsgithub.comcarloalbeCAD-taper-lock-bushing\">manufacturing cycle</a>  for a mechanical component and representation using manual design and CAD programs.'},\n",
       " {'period': '2017-',\n",
       "  'title': 'Web Programming',\n",
       "  'tools': 'HTML, CSS, Javascript, Vue, PHP, D3, Bootstrap',\n",
       "  'text': 'Front-end user friendly development. My <a href=\"httpstrumpvskim.000webhostapp.com\">game</a> in HTML5,  available also at <a href=\"httpstrumpvskimjongun.000webhostapp.com\">in a version with PHP login and database mysql</a>.. Realization of a professional <a href=\"httpssthimarkearthquakemap.000webhostapp.com\">interactive dashboard</a> for data visualization. Knowledge of web marketing, cookies setting and Google Analytic. '},\n",
       " {'period': '2017-2021',\n",
       "  'title': 'Linear Programming',\n",
       "  'tools': 'AMPL, Python, Gurobi, Excel Solver',\n",
       "  'text': ' Ability in modeling real problems into mathematical models. Knowledge of the main solvers (Gurobi, Cplex). See my <a href=\"httpsgithub.comcarloalbeWIA-logistics-AMPL\">AMPL project work</a> and my  <a href=\"httpsgithub.comcarloalbeA-nurse-scheduling-problem-solved-with-Gurobi\"> resolution of a hierarchical problem using gurobipy API </a>. '},\n",
       " {'period': '2015-2020',\n",
       "  'title': 'Business Process Management',\n",
       "  'tools': 'BPMN, Signavio, accounting',\n",
       "  'text': 'Financial Accounting, balance sheet; KPI and leverages; PERT  & CPT for Project management; depth knowledge of BPMN and Petri theory. Interest in process mining.'},\n",
       " {'period': '---------',\n",
       "  'title': 'Reportage',\n",
       "  'tools': 'Excel, Word, Power point, LaTex. Gimp',\n",
       "  'text': 'Textual and visual arrangement of various arguments. Great knowledge of the Office package. Find <a href=\"httpsdrive.google.comdrivefolders1U84DXiP1YGyvpIaifE-XJsutWStBYgOe\">here</a> some works.'}]"
      ]
     },
     "execution_count": 34,
     "metadata": {},
     "output_type": "execute_result"
    }
   ],
   "source": [
    "for i, html in enumerate(htmls) :\n",
    "    skills[i]['text'] = html\n",
    "\n",
    "skills\n"
   ]
  },
  {
   "cell_type": "code",
   "execution_count": null,
   "metadata": {},
   "outputs": [],
   "source": []
  }
 ],
 "metadata": {
  "interpreter": {
   "hash": "5f23c331dcc0e959a18d97d72b32723b8e8fefc4a029dc171226f15b89161c30"
  },
  "kernelspec": {
   "display_name": "Python 3.8.8 ('base')",
   "language": "python",
   "name": "python3"
  },
  "language_info": {
   "codemirror_mode": {
    "name": "ipython",
    "version": 3
   },
   "file_extension": ".py",
   "mimetype": "text/x-python",
   "name": "python",
   "nbconvert_exporter": "python",
   "pygments_lexer": "ipython3",
   "version": "3.8.8"
  },
  "orig_nbformat": 4
 },
 "nbformat": 4,
 "nbformat_minor": 2
}
